{
 "cells": [
  {
   "cell_type": "code",
   "execution_count": 16,
   "metadata": {
    "slideshow": {
     "slide_type": "fragment"
    }
   },
   "outputs": [],
   "source": [
    "using PyCall\n",
    "@pyimport numpy as np"
   ]
  },
  {
   "cell_type": "code",
   "execution_count": 38,
   "metadata": {},
   "outputs": [
    {
     "data": {
      "text/plain": [
       "sigmoid (generic function with 1 method)"
      ]
     },
     "execution_count": 38,
     "metadata": {},
     "output_type": "execute_result"
    }
   ],
   "source": [
    "function sigmoid(x)\n",
    "    return np.e^x\n",
    "end"
   ]
  },
  {
   "cell_type": "code",
   "execution_count": 40,
   "metadata": {},
   "outputs": [
    {
     "data": {
      "text/plain": [
       "5×1 Array{Float64,2}:\n",
       " 10.0\n",
       " 10.0\n",
       " 10.0\n",
       " 10.0\n",
       " 10.0"
      ]
     },
     "execution_count": 40,
     "metadata": {},
     "output_type": "execute_result"
    }
   ],
   "source": [
    "#Structure of the neural network\n",
    "num_input = 10\n",
    "num_hidden_layers = 1\n",
    "num_hidden_neurons = 5\n",
    "num_output = 2\n",
    "\n",
    "#[rows, columns]\n",
    "\n",
    "#Input is a single column vector\n",
    "input = np.ones([10, 1])\n",
    "\n",
    "#Each neuron in the hidden layer is the weighted sum of all the previous inputs+bias\n",
    "weights = np.ones([5, 10])\n",
    "bias = np.ones([5,1])\n",
    "\n",
    "output = np.dot(weights, input)+bias\n",
    "\n",
    "#What is need for a signmoid function as opposed to just using the bias as a means to activate the neuron?\n",
    "#Weights how important a neuron is to that network\n",
    "#Bias how easily it is for a neuron to fire\n",
    "#Sigmoid is used to prevent small changes in biases and weights from completely changing the outcome of the network"
   ]
  },
  {
   "cell_type": "code",
   "execution_count": null,
   "metadata": {},
   "outputs": [],
   "source": []
  }
 ],
 "metadata": {
  "kernelspec": {
   "display_name": "Julia 0.6.2",
   "language": "julia",
   "name": "julia-0.6"
  },
  "language_info": {
   "file_extension": ".jl",
   "mimetype": "application/julia",
   "name": "julia",
   "version": "0.6.2"
  }
 },
 "nbformat": 4,
 "nbformat_minor": 2
}
